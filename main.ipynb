{
 "cells": [
  {
   "cell_type": "code",
   "execution_count": 69,
   "id": "initial_id",
   "metadata": {
    "collapsed": true,
    "ExecuteTime": {
     "end_time": "2024-02-11T06:44:50.963994Z",
     "start_time": "2024-02-11T06:44:46.900060Z"
    }
   },
   "outputs": [],
   "source": [
    "import os\n",
    "\n",
    "from dotenv import load_dotenv\n",
    "from selenium import webdriver\n",
    "from selenium.webdriver.common.by import By\n",
    "\n",
    "# Load variables from .env file\n",
    "load_dotenv()\n",
    "\n",
    "email = os.getenv(\"EMAIL\")\n",
    "password = os.getenv(\"PASSWORD\")\n",
    "\n",
    "options = webdriver.FirefoxOptions()\n",
    "driver = webdriver.Firefox()\n",
    "driver.set_window_size(1130, 560)\n",
    "# driver.get(\"https://kdp.amazon.com\")\n",
    "# Access create page directly to lessen touchpoints\n",
    "driver.get(\"https://kdp.amazon.com/en_US/create\")"
   ]
  },
  {
   "cell_type": "code",
   "execution_count": 70,
   "id": "e0b4aa27a85099d6",
   "metadata": {
    "collapsed": false,
    "ExecuteTime": {
     "end_time": "2024-02-11T06:44:56.642794Z",
     "start_time": "2024-02-11T06:44:53.368839Z"
    }
   },
   "outputs": [
    {
     "name": "stdout",
     "output_type": "stream",
     "text": [
      "Logging in...\n"
     ]
    }
   ],
   "source": [
    "print(\"Logging in...\")\n",
    "email_input = driver.find_element(By.XPATH, '//*[@id=\"ap_email\"]')\n",
    "email_input.send_keys(email)\n",
    "password_input = driver.find_element(By.XPATH, '//*[@id=\"ap_password\"]')\n",
    "password_input.send_keys(password)\n",
    "signin = driver.find_element(By.XPATH, '//*[@id=\"signInSubmit\"]')\n",
    "signin.click()"
   ]
  },
  {
   "cell_type": "code",
   "execution_count": 71,
   "id": "a3009d3efddc25c1",
   "metadata": {
    "collapsed": false,
    "ExecuteTime": {
     "end_time": "2024-02-11T06:45:01.211256Z",
     "start_time": "2024-02-11T06:44:58.751162Z"
    }
   },
   "outputs": [
    {
     "name": "stdout",
     "output_type": "stream",
     "text": [
      "Creating book\n"
     ]
    }
   ],
   "source": [
    "print(\"Creating book\")\n",
    "paperback_button = driver.find_element(By.XPATH,\n",
    "                                       '/html/body/div[1]/div[1]/div[4]/div[2]/div/div[2]/div/div/div[2]/div/div/div/div[4]/div/div[2]/div/span/span/button')\n",
    "paperback_button.click()"
   ]
  },
  {
   "cell_type": "code",
   "execution_count": 87,
   "id": "2b58d3b72b3b0adf",
   "metadata": {
    "collapsed": false,
    "ExecuteTime": {
     "end_time": "2024-02-11T06:47:26.178880Z",
     "start_time": "2024-02-11T06:47:26.115208Z"
    }
   },
   "outputs": [
    {
     "name": "stdout",
     "output_type": "stream",
     "text": [
      "Populating details form...\n"
     ]
    }
   ],
   "source": [
    "print(\"Populating details form...\")\n",
    "title_input = driver.find_element(By.XPATH, '//*[@id=\"data-print-book-title\"]')\n",
    "title_input.send_keys(\"Lorem Ipsum\")\n",
    "author_last_name_input = driver.find_element(By.XPATH, '//*[@id=\"data-print-book-primary-author-last-name\"]')\n",
    "author_last_name_input.send_keys(\"Doe\")\n",
    "# description_input = driver.find_element(By.XPATH, 'body')\n",
    "# description_input.send_keys(\"Sample Description\")"
   ]
  },
  {
   "cell_type": "code",
   "execution_count": 90,
   "id": "4bdb4e8a25a2f72f",
   "metadata": {
    "collapsed": false,
    "ExecuteTime": {
     "end_time": "2024-02-11T06:48:16.735822Z",
     "start_time": "2024-02-11T06:48:16.696906Z"
    }
   },
   "outputs": [],
   "source": [
    "driver.switch_to.frame(driver.find_element(By.XPATH,\n",
    "                                           \"/html/body/div[1]/div[1]/div[3]/div[2]/div[2]/form/div/div[11]/div/div[2]/div[2]/div/div/span/div[1]/div[2]/div/div/iframe\"))\n",
    "\n",
    "driver.find_element(By.CSS_SELECTOR, 'body').send_keys(\"Lorem Ipsum Dolore\")\n",
    "driver.switch_to.default_content()"
   ]
  },
  {
   "cell_type": "code",
   "execution_count": 86,
   "id": "a904488c69ae51b",
   "metadata": {
    "collapsed": false,
    "ExecuteTime": {
     "end_time": "2024-02-11T06:47:21.649877Z",
     "start_time": "2024-02-11T06:47:21.642388Z"
    }
   },
   "outputs": [],
   "source": [
    "driver.switch_to.default_content()"
   ]
  },
  {
   "cell_type": "code",
   "outputs": [],
   "source": [],
   "metadata": {
    "collapsed": false
   },
   "id": "240fbf30187181d4"
  }
 ],
 "metadata": {
  "kernelspec": {
   "display_name": "Python 3.11.2 ('.venv': venv)",
   "language": "python",
   "name": "python3"
  },
  "language_info": {
   "codemirror_mode": {
    "name": "ipython",
    "version": 3
   },
   "file_extension": ".py",
   "mimetype": "text/x-python",
   "name": "python",
   "nbconvert_exporter": "python",
   "pygments_lexer": "ipython3",
   "version": "3.11.2"
  },
  "vscode": {
   "interpreter": {
    "hash": "537d9886d4c014d6eebc93eaf82565ef937e3a34f143624b3937a9aab6ae2ebe"
   }
  }
 },
 "nbformat": 4,
 "nbformat_minor": 5
}
